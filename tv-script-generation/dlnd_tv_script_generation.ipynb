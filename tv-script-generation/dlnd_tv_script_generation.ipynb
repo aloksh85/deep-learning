{
 "cells": [
  {
   "cell_type": "markdown",
   "metadata": {},
   "source": [
    "# TV Script Generation\n",
    "In this project, you'll generate your own [Simpsons](https://en.wikipedia.org/wiki/The_Simpsons) TV scripts using RNNs.  You'll be using part of the [Simpsons dataset](https://www.kaggle.com/wcukierski/the-simpsons-by-the-data) of scripts from 27 seasons.  The Neural Network you'll build will generate a new TV script for a scene at [Moe's Tavern](https://simpsonswiki.com/wiki/Moe's_Tavern).\n",
    "## Get the Data\n",
    "The data is already provided for you.  You'll be using a subset of the original dataset.  It consists of only the scenes in Moe's Tavern.  This doesn't include other versions of the tavern, like \"Moe's Cavern\", \"Flaming Moe's\", \"Uncle Moe's Family Feed-Bag\", etc.."
   ]
  },
  {
   "cell_type": "code",
   "execution_count": 1,
   "metadata": {},
   "outputs": [],
   "source": [
    "\"\"\"\n",
    "DON'T MODIFY ANYTHING IN THIS CELL\n",
    "\"\"\"\n",
    "import helper\n",
    "\n",
    "data_dir = './data/simpsons/moes_tavern_lines.txt'\n",
    "text = helper.load_data(data_dir)\n",
    "# Ignore notice, since we don't use it for analysing the data\n",
    "text = text[81:]"
   ]
  },
  {
   "cell_type": "markdown",
   "metadata": {},
   "source": [
    "## Explore the Data\n",
    "Play around with `view_sentence_range` to view different parts of the data."
   ]
  },
  {
   "cell_type": "code",
   "execution_count": 2,
   "metadata": {},
   "outputs": [
    {
     "name": "stdout",
     "output_type": "stream",
     "text": [
      "Dataset Stats\n",
      "Roughly the number of unique words: 11492\n",
      "Number of scenes: 262\n",
      "Average number of sentences in each scene: 15.248091603053435\n",
      "Number of lines: 4257\n",
      "Average number of words in each line: 11.50434578341555\n",
      "\n",
      "The sentences 20 to 30:\n",
      "\n",
      "Moe_Szyslak: Looks like this is the end.\n",
      "Barney_Gumble: That's all right. I couldn't have led a richer life.\n",
      "Barney_Gumble: So the next time somebody tells you county folk are good, honest people, you can spit in their faces for me!\n",
      "Lisa_Simpson: I will, Mr. Gumbel. But if you'll excuse me, I'm profiling my dad for the school paper. I thought it would be neat to follow him around for a day to see what makes him tick.\n",
      "Barney_Gumble: Oh, that's sweet. I used to follow my dad to a lot of bars too. (BELCH)\n",
      "Moe_Szyslak: Here you go. One beer, one chocolate milk.\n",
      "Lisa_Simpson: Uh, excuse me, I have the chocolate milk.\n",
      "Moe_Szyslak: Oh.\n",
      "Moe_Szyslak: What's the matter, Homer? The depressin' effects of alcohol usually don't kick in 'til closing time.\n"
     ]
    }
   ],
   "source": [
    "view_sentence_range = (20, 30)\n",
    "\n",
    "\"\"\"\n",
    "DON'T MODIFY ANYTHING IN THIS CELL\n",
    "\"\"\"\n",
    "import numpy as np\n",
    "\n",
    "print('Dataset Stats')\n",
    "print('Roughly the number of unique words: {}'.format(len({word: None for word in text.split()})))\n",
    "scenes = text.split('\\n\\n')\n",
    "print('Number of scenes: {}'.format(len(scenes)))\n",
    "sentence_count_scene = [scene.count('\\n') for scene in scenes]\n",
    "print('Average number of sentences in each scene: {}'.format(np.average(sentence_count_scene)))\n",
    "\n",
    "sentences = [sentence for scene in scenes for sentence in scene.split('\\n')]\n",
    "print('Number of lines: {}'.format(len(sentences)))\n",
    "word_count_sentence = [len(sentence.split()) for sentence in sentences]\n",
    "print('Average number of words in each line: {}'.format(np.average(word_count_sentence)))\n",
    "\n",
    "print()\n",
    "print('The sentences {} to {}:'.format(*view_sentence_range))\n",
    "print('\\n'.join(text.split('\\n')[view_sentence_range[0]:view_sentence_range[1]]))"
   ]
  },
  {
   "cell_type": "markdown",
   "metadata": {},
   "source": [
    "## Implement Preprocessing Functions\n",
    "The first thing to do to any dataset is preprocessing.  Implement the following preprocessing functions below:\n",
    "- Lookup Table\n",
    "- Tokenize Punctuation\n",
    "\n",
    "### Lookup Table\n",
    "To create a word embedding, you first need to transform the words to ids.  In this function, create two dictionaries:\n",
    "- Dictionary to go from the words to an id, we'll call `vocab_to_int`\n",
    "- Dictionary to go from the id to word, we'll call `int_to_vocab`\n",
    "\n",
    "Return these dictionaries in the following tuple `(vocab_to_int, int_to_vocab)`"
   ]
  },
  {
   "cell_type": "code",
   "execution_count": 3,
   "metadata": {},
   "outputs": [
    {
     "name": "stderr",
     "output_type": "stream",
     "text": [
      "/home/alok/anaconda3/envs/dlnd/lib/python3.6/importlib/_bootstrap.py:219: RuntimeWarning: numpy.dtype size changed, may indicate binary incompatibility. Expected 96, got 88\n",
      "  return f(*args, **kwds)\n",
      "/home/alok/anaconda3/envs/dlnd/lib/python3.6/importlib/_bootstrap.py:219: RuntimeWarning: numpy.dtype size changed, may indicate binary incompatibility. Expected 96, got 88\n",
      "  return f(*args, **kwds)\n"
     ]
    },
    {
     "name": "stdout",
     "output_type": "stream",
     "text": [
      "Tests Passed\n"
     ]
    }
   ],
   "source": [
    "import numpy as np\n",
    "import problem_unittests as tests\n",
    "\n",
    "def create_lookup_tables(text):\n",
    "    \"\"\"\n",
    "    Create lookup tables for vocabulary\n",
    "    :param text: The text of tv scripts split into words\n",
    "    :return: A tuple of dicts (vocab_to_int, int_to_vocab)\n",
    "    \"\"\"\n",
    "    # TODO: Implement Function\n",
    "    \n",
    "#     vocab_to_int = {w:i for i,w in enumerate(text) }    \n",
    "#     int_to_vocab = {vocab_to_int[key]:key for key in vocab_to_int}\n",
    "    \n",
    "    vocab = sorted(set(text))\n",
    "    vocab_to_int = {c: i for i, c in enumerate(vocab)}\n",
    "    int_to_vocab = dict(enumerate(vocab))\n",
    "    return vocab_to_int, int_to_vocab\n",
    "\n",
    "\"\"\"\n",
    "DON'T MODIFY ANYTHING IN THIS CELL THAT IS BELOW THIS LINE\n",
    "\"\"\"\n",
    "tests.test_create_lookup_tables(create_lookup_tables)"
   ]
  },
  {
   "cell_type": "markdown",
   "metadata": {},
   "source": [
    "### Tokenize Punctuation\n",
    "We'll be splitting the script into a word array using spaces as delimiters.  However, punctuations like periods and exclamation marks make it hard for the neural network to distinguish between the word \"bye\" and \"bye!\".\n",
    "\n",
    "Implement the function `token_lookup` to return a dict that will be used to tokenize symbols like \"!\" into \"||Exclamation_Mark||\".  Create a dictionary for the following symbols where the symbol is the key and value is the token:\n",
    "- Period ( . )\n",
    "- Comma ( , )\n",
    "- Quotation Mark ( \" )\n",
    "- Semicolon ( ; )\n",
    "- Exclamation mark ( ! )\n",
    "- Question mark ( ? )\n",
    "- Left Parentheses ( ( )\n",
    "- Right Parentheses ( ) )\n",
    "- Dash ( -- )\n",
    "- Return ( \\n )\n",
    "\n",
    "This dictionary will be used to token the symbols and add the delimiter (space) around it.  This separates the symbols as it's own word, making it easier for the neural network to predict on the next word. Make sure you don't use a token that could be confused as a word. Instead of using the token \"dash\", try using something like \"||dash||\"."
   ]
  },
  {
   "cell_type": "code",
   "execution_count": 4,
   "metadata": {},
   "outputs": [
    {
     "name": "stdout",
     "output_type": "stream",
     "text": [
      "Tests Passed\n"
     ]
    }
   ],
   "source": [
    "def token_lookup():\n",
    "    \"\"\"\n",
    "    Generate a dict to turn punctuation into a token.\n",
    "    :return: Tokenize dictionary where the key is the punctuation and the value is the token\n",
    "    \"\"\"\n",
    "    # TODO: Implement Function\n",
    "    tokenize = {'.':'||period||',\n",
    "                ',':\"||comma||\",\n",
    "               '\"':'||quotation||',\n",
    "               ';':'||semicolon||',\n",
    "               '!':'||exclamationmark||',\n",
    "               '?':'||questionmark||',\n",
    "               '(':'||leftparenthesis||',\n",
    "               ')':'|||rightparenthesis||',\n",
    "               '--':'||dash||',\n",
    "               '\\n':'||return||'}\n",
    "    return tokenize\n",
    "\n",
    "\"\"\"\n",
    "DON'T MODIFY ANYTHING IN THIS CELL THAT IS BELOW THIS LINE\n",
    "\"\"\"\n",
    "tests.test_tokenize(token_lookup)"
   ]
  },
  {
   "cell_type": "markdown",
   "metadata": {},
   "source": [
    "## Preprocess all the data and save it\n",
    "Running the code cell below will preprocess all the data and save it to file."
   ]
  },
  {
   "cell_type": "code",
   "execution_count": 5,
   "metadata": {},
   "outputs": [],
   "source": [
    "\"\"\"\n",
    "DON'T MODIFY ANYTHING IN THIS CELL\n",
    "\"\"\"\n",
    "# Preprocess Training, Validation, and Testing Data\n",
    "helper.preprocess_and_save_data(data_dir, token_lookup, create_lookup_tables)"
   ]
  },
  {
   "cell_type": "markdown",
   "metadata": {},
   "source": [
    "# Check Point\n",
    "This is your first checkpoint. If you ever decide to come back to this notebook or have to restart the notebook, you can start from here. The preprocessed data has been saved to disk."
   ]
  },
  {
   "cell_type": "code",
   "execution_count": 6,
   "metadata": {},
   "outputs": [],
   "source": [
    "\"\"\"\n",
    "DON'T MODIFY ANYTHING IN THIS CELL\n",
    "\"\"\"\n",
    "import helper\n",
    "import numpy as np\n",
    "import problem_unittests as tests\n",
    "\n",
    "int_text, vocab_to_int, int_to_vocab, token_dict = helper.load_preprocess()"
   ]
  },
  {
   "cell_type": "markdown",
   "metadata": {},
   "source": [
    "## Build the Neural Network\n",
    "You'll build the components necessary to build a RNN by implementing the following functions below:\n",
    "- get_inputs\n",
    "- get_init_cell\n",
    "- get_embed\n",
    "- build_rnn\n",
    "- build_nn\n",
    "- get_batches\n",
    "\n",
    "### Check the Version of TensorFlow and Access to GPU"
   ]
  },
  {
   "cell_type": "code",
   "execution_count": 7,
   "metadata": {},
   "outputs": [
    {
     "name": "stdout",
     "output_type": "stream",
     "text": [
      "TensorFlow Version: 1.9.0\n",
      "Default GPU Device: /device:GPU:0\n"
     ]
    }
   ],
   "source": [
    "\"\"\"\n",
    "DON'T MODIFY ANYTHING IN THIS CELL\n",
    "\"\"\"\n",
    "from distutils.version import LooseVersion\n",
    "import warnings\n",
    "import tensorflow as tf\n",
    "\n",
    "# Check TensorFlow Version\n",
    "assert LooseVersion(tf.__version__) >= LooseVersion('1.3'), 'Please use TensorFlow version 1.3 or newer'\n",
    "print('TensorFlow Version: {}'.format(tf.__version__))\n",
    "\n",
    "# Check for a GPU\n",
    "if not tf.test.gpu_device_name():\n",
    "    warnings.warn('No GPU found. Please use a GPU to train your neural network.')\n",
    "else:\n",
    "    print('Default GPU Device: {}'.format(tf.test.gpu_device_name()))"
   ]
  },
  {
   "cell_type": "markdown",
   "metadata": {},
   "source": [
    "### Input\n",
    "Implement the `get_inputs()` function to create TF Placeholders for the Neural Network.  It should create the following placeholders:\n",
    "- Input text placeholder named \"input\" using the [TF Placeholder](https://www.tensorflow.org/api_docs/python/tf/placeholder) `name` parameter.\n",
    "- Targets placeholder\n",
    "- Learning Rate placeholder\n",
    "\n",
    "Return the placeholders in the following tuple `(Input, Targets, LearningRate)`"
   ]
  },
  {
   "cell_type": "code",
   "execution_count": 8,
   "metadata": {},
   "outputs": [
    {
     "name": "stdout",
     "output_type": "stream",
     "text": [
      "Tests Passed\n"
     ]
    }
   ],
   "source": [
    "n_words = len(vocab_to_int)+1\n",
    "\n",
    "def get_inputs():\n",
    "    \"\"\"\n",
    "    Create TF Placeholders for input, targets, and learning rate.\n",
    "    :return: Tuple (input, targets, learning rate)\n",
    "    \"\"\"\n",
    "    # TODO: Implement Function\n",
    "    input_ = tf.placeholder(tf.int32,[None,None],name='input')\n",
    "    targets_ = tf.placeholder(tf.int32,[None, None],name='target')\n",
    "    learning_rate = tf.placeholder(tf.float32,name='learnrate')\n",
    "    return (input_, targets_, learning_rate)\n",
    "\n",
    "\n",
    "\"\"\"\n",
    "DON'T MODIFY ANYTHING IN THIS CELL THAT IS BELOW THIS LINE\n",
    "\"\"\"\n",
    "tests.test_get_inputs(get_inputs)"
   ]
  },
  {
   "cell_type": "markdown",
   "metadata": {},
   "source": [
    "### Build RNN Cell and Initialize\n",
    "Stack one or more [`BasicLSTMCells`](https://www.tensorflow.org/api_docs/python/tf/contrib/rnn/BasicLSTMCell) in a [`MultiRNNCell`](https://www.tensorflow.org/api_docs/python/tf/contrib/rnn/MultiRNNCell).\n",
    "- The Rnn size should be set using `rnn_size`\n",
    "- Initalize Cell State using the MultiRNNCell's [`zero_state()`](https://www.tensorflow.org/api_docs/python/tf/contrib/rnn/MultiRNNCell#zero_state) function\n",
    "    - Apply the name \"initial_state\" to the initial state using [`tf.identity()`](https://www.tensorflow.org/api_docs/python/tf/identity)\n",
    "\n",
    "Return the cell and initial state in the following tuple `(Cell, InitialState)`"
   ]
  },
  {
   "cell_type": "code",
   "execution_count": 9,
   "metadata": {},
   "outputs": [
    {
     "name": "stdout",
     "output_type": "stream",
     "text": [
      "Tests Passed\n"
     ]
    }
   ],
   "source": [
    "def get_init_cell(batch_size, rnn_size):\n",
    "    \"\"\"\n",
    "    Create an RNN Cell and initialize it.\n",
    "    :param batch_size: Size of batches\n",
    "    :param rnn_size: Size of RNNs\n",
    "    :return: Tuple (cell, initialize state)\n",
    "    \"\"\"\n",
    "    # TODO: Implement Function\n",
    "    def lstm_cell(lstm_size):\n",
    "        return tf.contrib.rnn.BasicLSTMCell(lstm_size)\n",
    "    cell = tf.contrib.rnn.MultiRNNCell( [lstm_cell(128) for i in range(rnn_size)])\n",
    "    \n",
    "#     cell = tf.contrib.rnn.MultiRNNCell([lstm]*rnn_size)\n",
    "    initial_state = cell.zero_state(batch_size,tf.float32)\n",
    "    initial_state = tf.identity(initial_state,name='initial_state')\n",
    "    return (cell,initial_state)\n",
    "\n",
    "\n",
    "\"\"\"\n",
    "DON'T MODIFY ANYTHING IN THIS CELL THAT IS BELOW THIS LINE\n",
    "\"\"\"\n",
    "tests.test_get_init_cell(get_init_cell)"
   ]
  },
  {
   "cell_type": "markdown",
   "metadata": {},
   "source": [
    "### Word Embedding\n",
    "Apply embedding to `input_data` using TensorFlow.  Return the embedded sequence."
   ]
  },
  {
   "cell_type": "code",
   "execution_count": 10,
   "metadata": {},
   "outputs": [
    {
     "name": "stdout",
     "output_type": "stream",
     "text": [
      "Tests Passed\n"
     ]
    }
   ],
   "source": [
    "def get_embed(input_data, vocab_size, embed_dim):\n",
    "    \"\"\"\n",
    "    Create embedding for <input_data>.\n",
    "    :param input_data: TF placeholder for text input.\n",
    "    :param vocab_size: Number of words in vocabulary.\n",
    "    :param embed_dim: Number of embedding dimensions\n",
    "    :return: Embedded input.\n",
    "    \"\"\"\n",
    "    # TODO: Implement Function\n",
    "    \n",
    "    embedding = tf.Variable(tf.random_uniform((vocab_size,embed_dim),-1,1))\n",
    "    embed = tf.nn.embedding_lookup(embedding,input_data)\n",
    "    return embed\n",
    "\n",
    "\n",
    "\"\"\"\n",
    "DON'T MODIFY ANYTHING IN THIS CELL THAT IS BELOW THIS LINE\n",
    "\"\"\"\n",
    "tests.test_get_embed(get_embed)"
   ]
  },
  {
   "cell_type": "markdown",
   "metadata": {},
   "source": [
    "### Build RNN\n",
    "You created a RNN Cell in the `get_init_cell()` function.  Time to use the cell to create a RNN.\n",
    "- Build the RNN using the [`tf.nn.dynamic_rnn()`](https://www.tensorflow.org/api_docs/python/tf/nn/dynamic_rnn)\n",
    " - Apply the name \"final_state\" to the final state using [`tf.identity()`](https://www.tensorflow.org/api_docs/python/tf/identity)\n",
    "\n",
    "Return the outputs and final_state state in the following tuple `(Outputs, FinalState)` "
   ]
  },
  {
   "cell_type": "code",
   "execution_count": 11,
   "metadata": {},
   "outputs": [
    {
     "name": "stdout",
     "output_type": "stream",
     "text": [
      "Tests Passed\n"
     ]
    }
   ],
   "source": [
    "def build_rnn(cell, inputs):\n",
    "    \"\"\"\n",
    "    Create a RNN using a RNN Cell\n",
    "    :param cell: RNN Cell\n",
    "    :param inputs: Input text data\n",
    "    :return: Tuple (Outputs, Final State)\n",
    "    \"\"\"\n",
    "    # TODO: Implement Function\n",
    "    output,final_state = tf.nn.dynamic_rnn(cell, inputs,dtype=tf.float32)\n",
    "    final_state=tf.identity(final_state,name='final_state')\n",
    "    return output, final_state\n",
    "\n",
    "\n",
    "\"\"\"\n",
    "DON'T MODIFY ANYTHING IN THIS CELL THAT IS BELOW THIS LINE\n",
    "\"\"\"\n",
    "tests.test_build_rnn(build_rnn)"
   ]
  },
  {
   "cell_type": "markdown",
   "metadata": {},
   "source": [
    "### Build the Neural Network\n",
    "Apply the functions you implemented above to:\n",
    "- Apply embedding to `input_data` using your `get_embed(input_data, vocab_size, embed_dim)` function.\n",
    "- Build RNN using `cell` and your `build_rnn(cell, inputs)` function.\n",
    "- Apply a fully connected layer with a linear activation and `vocab_size` as the number of outputs.\n",
    "\n",
    "Return the logits and final state in the following tuple (Logits, FinalState) "
   ]
  },
  {
   "cell_type": "code",
   "execution_count": 12,
   "metadata": {},
   "outputs": [
    {
     "name": "stdout",
     "output_type": "stream",
     "text": [
      "Tests Passed\n"
     ]
    }
   ],
   "source": [
    "def build_nn(cell, rnn_size, input_data, vocab_size, embed_dim):\n",
    "    \"\"\"\n",
    "    Build part of the neural network\n",
    "    :param cell: RNN cell\n",
    "    :param rnn_size: Size of rnns\n",
    "    :param input_data: Input data\n",
    "    :param vocab_size: Vocabulary size\n",
    "    :param embed_dim: Number of embedding dimensions\n",
    "    :return: Tuple (Logits, FinalState)\n",
    "    \"\"\"\n",
    "    # TODO: Implement Function\n",
    "    embed = get_embed(input_data,vocab_size,embed_dim)\n",
    "    outputs,state = build_rnn(cell,embed)\n",
    "    logits = tf.contrib.layers.fully_connected(outputs, vocab_size,activation_fn=None)\n",
    "\n",
    "    \n",
    "    return logits,state\n",
    "\n",
    "\"\"\"\n",
    "DON'T MODIFY ANYTHING IN THIS CELL THAT IS BELOW THIS LINE\n",
    "\"\"\"\n",
    "tests.test_build_nn(build_nn)"
   ]
  },
  {
   "cell_type": "markdown",
   "metadata": {},
   "source": [
    "### Batches\n",
    "Implement `get_batches` to create batches of input and targets using `int_text`.  The batches should be a Numpy array with the shape `(number of batches, 2, batch size, sequence length)`. Each batch contains two elements:\n",
    "- The first element is a single batch of **input** with the shape `[batch size, sequence length]`\n",
    "- The second element is a single batch of **targets** with the shape `[batch size, sequence length]`\n",
    "\n",
    "If you can't fill the last batch with enough data, drop the last batch.\n",
    "\n",
    "For example, `get_batches([1, 2, 3, 4, 5, 6, 7, 8, 9, 10, 11, 12, 13, 14, 15, 16, 17, 18, 19, 20], 3, 2)` would return a Numpy array of the following:\n",
    "```\n",
    "[\n",
    "  # First Batch\n",
    "  [\n",
    "    # Batch of Input\n",
    "    [[ 1  2], [ 7  8], [13 14]]\n",
    "    # Batch of targets\n",
    "    [[ 2  3], [ 8  9], [14 15]]\n",
    "  ]\n",
    "\n",
    "  # Second Batch\n",
    "  [\n",
    "    # Batch of Input\n",
    "    [[ 3  4], [ 9 10], [15 16]]\n",
    "    # Batch of targets\n",
    "    [[ 4  5], [10 11], [16 17]]\n",
    "  ]\n",
    "\n",
    "  # Third Batch\n",
    "  [\n",
    "    # Batch of Input\n",
    "    [[ 5  6], [11 12], [17 18]]\n",
    "    # Batch of targets\n",
    "    [[ 6  7], [12 13], [18  1]]\n",
    "  ]\n",
    "]\n",
    "```\n",
    "\n",
    "Notice that the last target value in the last batch is the first input value of the first batch. In this case, `1`. This is a common technique used when creating sequence batches, although it is rather unintuitive."
   ]
  },
  {
   "cell_type": "markdown",
   "metadata": {},
   "source": []
  },
  {
   "cell_type": "code",
   "execution_count": 13,
   "metadata": {
    "scrolled": true
   },
   "outputs": [
    {
     "name": "stdout",
     "output_type": "stream",
     "text": [
      "[[1, 2], [2, 3]]\n",
      "[[2, 3], [3, 4]]\n",
      "[[[1, 2], [2, 3]], [[2, 3], [3, 4]]]\n",
      "[[[1 2]\n",
      "  [2 3]]\n",
      "\n",
      " [[2 3]\n",
      "  [3 4]]]\n",
      "(2, 2, 2)\n"
     ]
    }
   ],
   "source": [
    "list1 = [1,2]\n",
    "list2 = [2,3]\n",
    "list3 = [list1,list2]\n",
    "print (list3)\n",
    "from operator import add\n",
    "list4 = list(map(add,list1,[1]*len(list1)))\n",
    "list5 = list(map(add,list2,[1]*len(list2)))\n",
    "list6=[list4,list5]\n",
    "print(list6)\n",
    "\n",
    "list3 = [list3,list6]\n",
    "\n",
    "print(list3)\n",
    "list_arr = np.asarray(list3)\n",
    "print(list_arr)\n",
    "print(list_arr.shape)\n",
    "\n",
    "list7 = [8,9]\n",
    "list8 = [9,10]\n"
   ]
  },
  {
   "cell_type": "code",
   "execution_count": 14,
   "metadata": {},
   "outputs": [
    {
     "name": "stdout",
     "output_type": "stream",
     "text": [
      "[[[[ 1  2]\n",
      "   [ 7  8]\n",
      "   [13 14]]\n",
      "\n",
      "  [[ 2  3]\n",
      "   [ 8  9]\n",
      "   [14 15]]]\n",
      "\n",
      "\n",
      " [[[ 3  4]\n",
      "   [ 9 10]\n",
      "   [15 16]]\n",
      "\n",
      "  [[ 4  5]\n",
      "   [10 11]\n",
      "   [16 17]]]\n",
      "\n",
      "\n",
      " [[[ 5  6]\n",
      "   [11 12]\n",
      "   [17 18]]\n",
      "\n",
      "  [[ 6  7]\n",
      "   [12 13]\n",
      "   [18  1]]]]\n",
      "(3, 2, 3, 2)\n",
      "Tests Passed\n"
     ]
    }
   ],
   "source": [
    "def get_batches(int_text, batch_size, seq_length):\n",
    "    \"\"\"\n",
    "    Return batches of input and target\n",
    "    :param int_text: Text with the words replaced by their ids\n",
    "    :param batch_size: The size of batch\n",
    "    :param seq_length: The length of sequence\n",
    "    :return: Batches as a Numpy array\n",
    "    \"\"\"\n",
    "    # TODO: Implement Function\n",
    "    chars_per_batch = batch_size*seq_length\n",
    "    n_batches = len(int_text)//chars_per_batch    \n",
    "    int_text = int_text[:n_batches*chars_per_batch]\n",
    "    batch_arr = []\n",
    "    num_batches_done = 0 #total batches will be n_batches*batch_size\n",
    "    num_chars_done = 0\n",
    "    \n",
    "        \n",
    "    for j in range(batch_size):\n",
    "        x_arr = np.empty(batch_size)\n",
    "        y_arr = np.empty(batch_size)\n",
    "        \n",
    "        for i in range(n_batches):\n",
    "            #check overflow edge case  for y_train\n",
    "            x_train = int_text[num_chars_done: num_chars_done+seq_length]\n",
    "            if  num_chars_done+seq_length+1 < len(int_text) :\n",
    "                y_train = int_text[num_chars_done+1 : num_chars_done+seq_length+1]\n",
    "            else:\n",
    "                y_train =  int_text[num_chars_done+1:num_chars_done+seq_length]\n",
    "                y_train.append(int_text[0])\n",
    "#             print('x_train: ', x_train)\n",
    "#             print('y_train: ', y_train)\n",
    "            \n",
    "            if  len(batch_arr) == 0:\n",
    "                batch_arr = [[[x_train],[y_train]]]\n",
    "            elif len(batch_arr) < n_batches:\n",
    "#                 print('n_batches < ', n_batches)\n",
    "                batch_arr.append([[x_train],[y_train]])\n",
    "            else:\n",
    "                batch_arr[i][0].append(x_train)\n",
    "                batch_arr[i][1].append(y_train)\n",
    "                \n",
    "                \n",
    "                \n",
    "            num_chars_done+=seq_length\n",
    "            num_batches_done+=1\n",
    "            \n",
    "#             print('batch_arr after:', batch_arr)\n",
    "#             print('batch_arr len:', len(batch_arr))\n",
    "            \n",
    "        \n",
    "    \n",
    "    \n",
    "    \n",
    "    return np.array(batch_arr)\n",
    "\n",
    "arr = get_batches([1, 2, 3, 4, 5, 6, 7, 8, 9, 10, 11, 12, 13, 14, 15, 16, 17, 18, 19, 20], 3, 2)\n",
    "print(arr)\n",
    "print(arr.shape)\n",
    "\n",
    "\"\"\"\n",
    "DON'T MODIFY ANYTHING IN THIS CELL THAT IS BELOW THIS LINE\n",
    "\"\"\"\n",
    "tests.test_get_batches(get_batches)"
   ]
  },
  {
   "cell_type": "markdown",
   "metadata": {},
   "source": [
    "## Neural Network Training\n",
    "### Hyperparameters\n",
    "Tune the following parameters:\n",
    "\n",
    "- Set `num_epochs` to the number of epochs.\n",
    "- Set `batch_size` to the batch size.\n",
    "- Set `rnn_size` to the size of the RNNs.\n",
    "- Set `embed_dim` to the size of the embedding.\n",
    "- Set `seq_length` to the length of sequence.\n",
    "- Set `learning_rate` to the learning rate.\n",
    "- Set `show_every_n_batches` to the number of batches the neural network should print progress."
   ]
  },
  {
   "cell_type": "code",
   "execution_count": 15,
   "metadata": {},
   "outputs": [],
   "source": [
    "# Number of Epochs\n",
    "num_epochs = 95\n",
    "# Batch Size\n",
    "batch_size = 100\n",
    "# RNN Size\n",
    "rnn_size = 2\n",
    "# Embedding Dimension Size\n",
    "embed_dim = 300\n",
    "# Sequence Length\n",
    "seq_length = 5\n",
    "# Learning Rate\n",
    "learning_rate = 0.0025\n",
    "# Show stats for every n number of batches\n",
    "show_every_n_batches = 100\n",
    "\n",
    "\"\"\"\n",
    "DON'T MODIFY ANYTHING IN THIS CELL THAT IS BELOW THIS LINE\n",
    "\"\"\"\n",
    "save_dir = './save'"
   ]
  },
  {
   "cell_type": "markdown",
   "metadata": {},
   "source": [
    "### Build the Graph\n",
    "Build the graph using the neural network you implemented."
   ]
  },
  {
   "cell_type": "code",
   "execution_count": 16,
   "metadata": {},
   "outputs": [],
   "source": [
    "\"\"\"\n",
    "DON'T MODIFY ANYTHING IN THIS CELL\n",
    "\"\"\"\n",
    "from tensorflow.contrib import seq2seq\n",
    "\n",
    "train_graph = tf.Graph()\n",
    "with train_graph.as_default():\n",
    "    vocab_size = len(int_to_vocab)\n",
    "    input_text, targets, lr = get_inputs()\n",
    "    input_data_shape = tf.shape(input_text)\n",
    "    cell, initial_state = get_init_cell(input_data_shape[0], rnn_size)\n",
    "    logits, final_state = build_nn(cell, rnn_size, input_text, vocab_size, embed_dim)\n",
    "\n",
    "    # Probabilities for generating words\n",
    "    probs = tf.nn.softmax(logits, name='probs')\n",
    "\n",
    "    # Loss function\n",
    "    cost = seq2seq.sequence_loss(\n",
    "        logits,\n",
    "        targets,\n",
    "        tf.ones([input_data_shape[0], input_data_shape[1]]))\n",
    "\n",
    "    # Optimizer\n",
    "    optimizer = tf.train.AdamOptimizer(lr)\n",
    "\n",
    "    # Gradient Clipping\n",
    "    gradients = optimizer.compute_gradients(cost)\n",
    "    capped_gradients = [(tf.clip_by_value(grad, -1., 1.), var) for grad, var in gradients if grad is not None]\n",
    "    train_op = optimizer.apply_gradients(capped_gradients)"
   ]
  },
  {
   "cell_type": "markdown",
   "metadata": {},
   "source": [
    "## Train\n",
    "Train the neural network on the preprocessed data.  If you have a hard time getting a good loss, check the [forums](https://discussions.udacity.com/) to see if anyone is having the same problem."
   ]
  },
  {
   "cell_type": "code",
   "execution_count": 17,
   "metadata": {},
   "outputs": [
    {
     "name": "stdout",
     "output_type": "stream",
     "text": [
      "Epoch   0 Batch    0/138   train_loss = 8.821\n",
      "Epoch   0 Batch  100/138   train_loss = 6.569\n",
      "Epoch   1 Batch   62/138   train_loss = 5.783\n",
      "Epoch   2 Batch   24/138   train_loss = 5.494\n",
      "Epoch   2 Batch  124/138   train_loss = 5.015\n",
      "Epoch   3 Batch   86/138   train_loss = 4.966\n",
      "Epoch   4 Batch   48/138   train_loss = 4.911\n",
      "Epoch   5 Batch   10/138   train_loss = 4.593\n",
      "Epoch   5 Batch  110/138   train_loss = 4.426\n",
      "Epoch   6 Batch   72/138   train_loss = 4.516\n",
      "Epoch   7 Batch   34/138   train_loss = 4.275\n",
      "Epoch   7 Batch  134/138   train_loss = 4.278\n",
      "Epoch   8 Batch   96/138   train_loss = 4.182\n",
      "Epoch   9 Batch   58/138   train_loss = 3.939\n",
      "Epoch  10 Batch   20/138   train_loss = 3.885\n",
      "Epoch  10 Batch  120/138   train_loss = 3.668\n",
      "Epoch  11 Batch   82/138   train_loss = 3.687\n",
      "Epoch  12 Batch   44/138   train_loss = 3.781\n",
      "Epoch  13 Batch    6/138   train_loss = 3.299\n",
      "Epoch  13 Batch  106/138   train_loss = 3.276\n",
      "Epoch  14 Batch   68/138   train_loss = 3.315\n",
      "Epoch  15 Batch   30/138   train_loss = 3.232\n",
      "Epoch  15 Batch  130/138   train_loss = 3.056\n",
      "Epoch  16 Batch   92/138   train_loss = 3.059\n",
      "Epoch  17 Batch   54/138   train_loss = 2.994\n",
      "Epoch  18 Batch   16/138   train_loss = 2.739\n",
      "Epoch  18 Batch  116/138   train_loss = 2.813\n",
      "Epoch  19 Batch   78/138   train_loss = 2.758\n",
      "Epoch  20 Batch   40/138   train_loss = 2.726\n",
      "Epoch  21 Batch    2/138   train_loss = 2.580\n",
      "Epoch  21 Batch  102/138   train_loss = 2.383\n",
      "Epoch  22 Batch   64/138   train_loss = 2.413\n",
      "Epoch  23 Batch   26/138   train_loss = 2.336\n",
      "Epoch  23 Batch  126/138   train_loss = 2.363\n",
      "Epoch  24 Batch   88/138   train_loss = 2.343\n",
      "Epoch  25 Batch   50/138   train_loss = 2.344\n",
      "Epoch  26 Batch   12/138   train_loss = 2.275\n",
      "Epoch  26 Batch  112/138   train_loss = 2.091\n",
      "Epoch  27 Batch   74/138   train_loss = 2.051\n",
      "Epoch  28 Batch   36/138   train_loss = 1.797\n",
      "Epoch  28 Batch  136/138   train_loss = 1.973\n",
      "Epoch  29 Batch   98/138   train_loss = 1.858\n",
      "Epoch  30 Batch   60/138   train_loss = 1.986\n",
      "Epoch  31 Batch   22/138   train_loss = 1.814\n",
      "Epoch  31 Batch  122/138   train_loss = 1.660\n",
      "Epoch  32 Batch   84/138   train_loss = 1.944\n",
      "Epoch  33 Batch   46/138   train_loss = 1.737\n",
      "Epoch  34 Batch    8/138   train_loss = 1.620\n",
      "Epoch  34 Batch  108/138   train_loss = 1.611\n",
      "Epoch  35 Batch   70/138   train_loss = 1.655\n",
      "Epoch  36 Batch   32/138   train_loss = 1.645\n",
      "Epoch  36 Batch  132/138   train_loss = 1.531\n",
      "Epoch  37 Batch   94/138   train_loss = 1.453\n",
      "Epoch  38 Batch   56/138   train_loss = 1.560\n",
      "Epoch  39 Batch   18/138   train_loss = 1.578\n",
      "Epoch  39 Batch  118/138   train_loss = 1.448\n",
      "Epoch  40 Batch   80/138   train_loss = 1.399\n",
      "Epoch  41 Batch   42/138   train_loss = 1.416\n",
      "Epoch  42 Batch    4/138   train_loss = 1.483\n",
      "Epoch  42 Batch  104/138   train_loss = 1.310\n",
      "Epoch  43 Batch   66/138   train_loss = 1.553\n",
      "Epoch  44 Batch   28/138   train_loss = 1.374\n",
      "Epoch  44 Batch  128/138   train_loss = 1.349\n",
      "Epoch  45 Batch   90/138   train_loss = 1.480\n",
      "Epoch  46 Batch   52/138   train_loss = 1.368\n",
      "Epoch  47 Batch   14/138   train_loss = 1.349\n",
      "Epoch  47 Batch  114/138   train_loss = 1.327\n",
      "Epoch  48 Batch   76/138   train_loss = 1.285\n",
      "Epoch  49 Batch   38/138   train_loss = 1.256\n",
      "Epoch  50 Batch    0/138   train_loss = 1.348\n",
      "Epoch  50 Batch  100/138   train_loss = 1.237\n",
      "Epoch  51 Batch   62/138   train_loss = 1.255\n",
      "Epoch  52 Batch   24/138   train_loss = 1.274\n",
      "Epoch  52 Batch  124/138   train_loss = 1.158\n",
      "Epoch  53 Batch   86/138   train_loss = 1.270\n",
      "Epoch  54 Batch   48/138   train_loss = 1.239\n",
      "Epoch  55 Batch   10/138   train_loss = 1.219\n",
      "Epoch  55 Batch  110/138   train_loss = 1.151\n",
      "Epoch  56 Batch   72/138   train_loss = 1.078\n",
      "Epoch  57 Batch   34/138   train_loss = 1.036\n",
      "Epoch  57 Batch  134/138   train_loss = 1.123\n",
      "Epoch  58 Batch   96/138   train_loss = 0.976\n",
      "Epoch  59 Batch   58/138   train_loss = 1.262\n",
      "Epoch  60 Batch   20/138   train_loss = 1.071\n",
      "Epoch  60 Batch  120/138   train_loss = 1.040\n",
      "Epoch  61 Batch   82/138   train_loss = 1.056\n",
      "Epoch  62 Batch   44/138   train_loss = 1.138\n",
      "Epoch  63 Batch    6/138   train_loss = 1.014\n",
      "Epoch  63 Batch  106/138   train_loss = 1.023\n",
      "Epoch  64 Batch   68/138   train_loss = 1.088\n",
      "Epoch  65 Batch   30/138   train_loss = 1.139\n",
      "Epoch  65 Batch  130/138   train_loss = 1.095\n",
      "Epoch  66 Batch   92/138   train_loss = 1.064\n",
      "Epoch  67 Batch   54/138   train_loss = 1.048\n",
      "Epoch  68 Batch   16/138   train_loss = 1.001\n",
      "Epoch  68 Batch  116/138   train_loss = 1.002\n",
      "Epoch  69 Batch   78/138   train_loss = 1.026\n",
      "Epoch  70 Batch   40/138   train_loss = 0.943\n",
      "Epoch  71 Batch    2/138   train_loss = 1.052\n",
      "Epoch  71 Batch  102/138   train_loss = 0.929\n",
      "Epoch  72 Batch   64/138   train_loss = 1.037\n",
      "Epoch  73 Batch   26/138   train_loss = 0.990\n",
      "Epoch  73 Batch  126/138   train_loss = 1.093\n",
      "Epoch  74 Batch   88/138   train_loss = 1.001\n",
      "Epoch  75 Batch   50/138   train_loss = 1.012\n",
      "Epoch  76 Batch   12/138   train_loss = 0.992\n",
      "Epoch  76 Batch  112/138   train_loss = 0.999\n",
      "Epoch  77 Batch   74/138   train_loss = 0.977\n",
      "Epoch  78 Batch   36/138   train_loss = 0.923\n",
      "Epoch  78 Batch  136/138   train_loss = 1.008\n",
      "Epoch  79 Batch   98/138   train_loss = 0.827\n",
      "Epoch  80 Batch   60/138   train_loss = 1.078\n",
      "Epoch  81 Batch   22/138   train_loss = 0.968\n",
      "Epoch  81 Batch  122/138   train_loss = 0.889\n",
      "Epoch  82 Batch   84/138   train_loss = 1.057\n",
      "Epoch  83 Batch   46/138   train_loss = 0.894\n",
      "Epoch  84 Batch    8/138   train_loss = 0.893\n",
      "Epoch  84 Batch  108/138   train_loss = 0.917\n",
      "Epoch  85 Batch   70/138   train_loss = 0.938\n",
      "Epoch  86 Batch   32/138   train_loss = 0.990\n",
      "Epoch  86 Batch  132/138   train_loss = 0.991\n",
      "Epoch  87 Batch   94/138   train_loss = 0.938\n",
      "Epoch  88 Batch   56/138   train_loss = 0.977\n",
      "Epoch  89 Batch   18/138   train_loss = 1.034\n",
      "Epoch  89 Batch  118/138   train_loss = 0.927\n",
      "Epoch  90 Batch   80/138   train_loss = 0.925\n",
      "Epoch  91 Batch   42/138   train_loss = 0.905\n",
      "Epoch  92 Batch    4/138   train_loss = 1.008\n",
      "Epoch  92 Batch  104/138   train_loss = 0.960\n",
      "Epoch  93 Batch   66/138   train_loss = 1.013\n",
      "Epoch  94 Batch   28/138   train_loss = 0.976\n",
      "Epoch  94 Batch  128/138   train_loss = 0.914\n",
      "Model Trained and Saved\n"
     ]
    }
   ],
   "source": [
    "\"\"\"\n",
    "DON'T MODIFY ANYTHING IN THIS CELL\n",
    "\"\"\"\n",
    "batches = get_batches(int_text, batch_size, seq_length)\n",
    "\n",
    "with tf.Session(graph=train_graph) as sess:\n",
    "    sess.run(tf.global_variables_initializer())\n",
    "\n",
    "    for epoch_i in range(num_epochs):\n",
    "        state = sess.run(initial_state, {input_text: batches[0][0]})\n",
    "\n",
    "        for batch_i, (x, y) in enumerate(batches):\n",
    "            feed = {\n",
    "                input_text: x,\n",
    "                targets: y,\n",
    "                initial_state: state,\n",
    "                lr: learning_rate}\n",
    "            train_loss, state, _ = sess.run([cost, final_state, train_op], feed)\n",
    "\n",
    "            # Show every <show_every_n_batches> batches\n",
    "            if (epoch_i * len(batches) + batch_i) % show_every_n_batches == 0:\n",
    "                print('Epoch {:>3} Batch {:>4}/{}   train_loss = {:.3f}'.format(\n",
    "                    epoch_i,\n",
    "                    batch_i,\n",
    "                    len(batches),\n",
    "                    train_loss))\n",
    "\n",
    "    # Save Model\n",
    "    saver = tf.train.Saver()\n",
    "    saver.save(sess, save_dir)\n",
    "    print('Model Trained and Saved')"
   ]
  },
  {
   "cell_type": "markdown",
   "metadata": {},
   "source": [
    "## Save Parameters\n",
    "Save `seq_length` and `save_dir` for generating a new TV script."
   ]
  },
  {
   "cell_type": "code",
   "execution_count": 18,
   "metadata": {},
   "outputs": [],
   "source": [
    "\"\"\"\n",
    "DON'T MODIFY ANYTHING IN THIS CELL\n",
    "\"\"\"\n",
    "# Save parameters for checkpoint\n",
    "helper.save_params((seq_length, save_dir))"
   ]
  },
  {
   "cell_type": "markdown",
   "metadata": {},
   "source": [
    "# Checkpoint"
   ]
  },
  {
   "cell_type": "code",
   "execution_count": 19,
   "metadata": {},
   "outputs": [],
   "source": [
    "\"\"\"\n",
    "DON'T MODIFY ANYTHING IN THIS CELL\n",
    "\"\"\"\n",
    "import tensorflow as tf\n",
    "import numpy as np\n",
    "import helper\n",
    "import problem_unittests as tests\n",
    "\n",
    "_, vocab_to_int, int_to_vocab, token_dict = helper.load_preprocess()\n",
    "seq_length, load_dir = helper.load_params()"
   ]
  },
  {
   "cell_type": "markdown",
   "metadata": {},
   "source": [
    "## Implement Generate Functions\n",
    "### Get Tensors\n",
    "Get tensors from `loaded_graph` using the function [`get_tensor_by_name()`](https://www.tensorflow.org/api_docs/python/tf/Graph#get_tensor_by_name).  Get the tensors using the following names:\n",
    "- \"input:0\"\n",
    "- \"initial_state:0\"\n",
    "- \"final_state:0\"\n",
    "- \"probs:0\"\n",
    "\n",
    "Return the tensors in the following tuple `(InputTensor, InitialStateTensor, FinalStateTensor, ProbsTensor)` "
   ]
  },
  {
   "cell_type": "code",
   "execution_count": 20,
   "metadata": {},
   "outputs": [
    {
     "name": "stdout",
     "output_type": "stream",
     "text": [
      "Tests Passed\n"
     ]
    }
   ],
   "source": [
    "def get_tensors(loaded_graph):\n",
    "    \"\"\"\n",
    "    Get input, initial state, final state, and probabilities tensor from <loaded_graph>\n",
    "    :param loaded_graph: TensorFlow graph loaded from file\n",
    "    :return: Tuple (InputTensor, InitialStateTensor, FinalStateTensor, ProbsTensor)\n",
    "    \"\"\"\n",
    "    # TODO: Implement Function\n",
    "    input_0 = loaded_graph.get_tensor_by_name(\"input:0\")\n",
    "    init_state_0 = loaded_graph.get_tensor_by_name(\"initial_state:0\")\n",
    "    final_state_0 = loaded_graph.get_tensor_by_name(\"final_state:0\")\n",
    "    probs_0 = loaded_graph.get_tensor_by_name(\"probs:0\")\n",
    "    return input_0, init_state_0, final_state_0, probs_0\n",
    "\n",
    "\n",
    "\"\"\"\n",
    "DON'T MODIFY ANYTHING IN THIS CELL THAT IS BELOW THIS LINE\n",
    "\"\"\"\n",
    "tests.test_get_tensors(get_tensors)"
   ]
  },
  {
   "cell_type": "markdown",
   "metadata": {},
   "source": [
    "### Choose Word\n",
    "Implement the `pick_word()` function to select the next word using `probabilities`."
   ]
  },
  {
   "cell_type": "code",
   "execution_count": 21,
   "metadata": {},
   "outputs": [
    {
     "name": "stdout",
     "output_type": "stream",
     "text": [
      "Tests Passed\n"
     ]
    }
   ],
   "source": [
    "def pick_word(probabilities, int_to_vocab):\n",
    "    \"\"\"\n",
    "    Pick the next word in the generated text\n",
    "    :param probabilities: Probabilites of the next word\n",
    "    :param int_to_vocab: Dictionary of word ids as the keys and words as the values\n",
    "    :return: String of the predicted word\n",
    "    \"\"\"\n",
    "    # TODO: Implement Function\n",
    "    max_idx = np.argmax(probabilities)  \n",
    "    return int_to_vocab[max_idx]\n",
    "\n",
    "\n",
    "\"\"\"\n",
    "DON'T MODIFY ANYTHING IN THIS CELL THAT IS BELOW THIS LINE\n",
    "\"\"\"\n",
    "tests.test_pick_word(pick_word)"
   ]
  },
  {
   "cell_type": "markdown",
   "metadata": {},
   "source": [
    "## Generate TV Script\n",
    "This will generate the TV script for you.  Set `gen_length` to the length of TV script you want to generate."
   ]
  },
  {
   "cell_type": "code",
   "execution_count": 22,
   "metadata": {},
   "outputs": [
    {
     "name": "stdout",
     "output_type": "stream",
     "text": [
      "INFO:tensorflow:Restoring parameters from ./save\n",
      "moe_szyslak:(excited) oh, that is a nigerian would peace.(chuckles)\n",
      "lenny_leonard: well, i gotta get back to you. you're a good one, is that an ice voice) hold for me, that's what, i was very bad of yourself...(looks around) oh, boy?(to off tv) no, we are a ticket, have it to comin'.\n",
      "carl_carlson: don't do that...(really drawing)\n",
      "moe_szyslak: oh, wait a minute.(singing to his face) sorry a dog.\n",
      "moe_szyslak:(to homer) it's for my good, how buy you a problem?\n",
      "\n",
      "\n",
      "young_marge: a kid should gone moe's day.\"\n",
      "carl_carlson: maybe he pop who doesn't me,(belches)\n",
      "moe_szyslak: moe's tavern is short exactly old way, two more with soon... uh... may i stayed up phone. what about you, would you like to buy their america to marge. to you and charge up the irish!\n",
      "moe_szyslak:\n"
     ]
    }
   ],
   "source": [
    "gen_length = 200\n",
    "# homer_simpson, moe_szyslak, or Barney_Gumble\n",
    "prime_word = 'moe_szyslak'\n",
    "\n",
    "\"\"\"\n",
    "DON'T MODIFY ANYTHING IN THIS CELL THAT IS BELOW THIS LINE\n",
    "\"\"\"\n",
    "loaded_graph = tf.Graph()\n",
    "with tf.Session(graph=loaded_graph) as sess:\n",
    "    # Load saved model\n",
    "    loader = tf.train.import_meta_graph(load_dir + '.meta')\n",
    "    loader.restore(sess, load_dir)\n",
    "\n",
    "    # Get Tensors from loaded model\n",
    "    input_text, initial_state, final_state, probs = get_tensors(loaded_graph)\n",
    "\n",
    "    # Sentences generation setup\n",
    "    gen_sentences = [prime_word + ':']\n",
    "    prev_state = sess.run(initial_state, {input_text: np.array([[1]])})\n",
    "\n",
    "    # Generate sentences\n",
    "    for n in range(gen_length):\n",
    "        # Dynamic Input\n",
    "        dyn_input = [[vocab_to_int[word] for word in gen_sentences[-seq_length:]]]\n",
    "        dyn_seq_length = len(dyn_input[0])\n",
    "\n",
    "        # Get Prediction\n",
    "        probabilities, prev_state = sess.run(\n",
    "            [probs, final_state],\n",
    "            {input_text: dyn_input, initial_state: prev_state})\n",
    "        \n",
    "        pred_word = pick_word(probabilities[0][dyn_seq_length-1], int_to_vocab)\n",
    "\n",
    "        gen_sentences.append(pred_word)\n",
    "    \n",
    "    # Remove tokens\n",
    "    tv_script = ' '.join(gen_sentences)\n",
    "    for key, token in token_dict.items():\n",
    "        ending = ' ' if key in ['\\n', '(', '\"'] else ''\n",
    "        tv_script = tv_script.replace(' ' + token.lower(), key)\n",
    "    tv_script = tv_script.replace('\\n ', '\\n')\n",
    "    tv_script = tv_script.replace('( ', '(')\n",
    "        \n",
    "    print(tv_script)"
   ]
  },
  {
   "cell_type": "markdown",
   "metadata": {},
   "source": [
    "# The TV Script is Nonsensical\n",
    "It's ok if the TV script doesn't make any sense.  We trained on less than a megabyte of text.  In order to get good results, you'll have to use a smaller vocabulary or get more data.  Luckily there's more data!  As we mentioned in the beggining of this project, this is a subset of [another dataset](https://www.kaggle.com/wcukierski/the-simpsons-by-the-data).  We didn't have you train on all the data, because that would take too long.  However, you are free to train your neural network on all the data.  After you complete the project, of course.\n",
    "# Submitting This Project\n",
    "When submitting this project, make sure to run all the cells before saving the notebook. Save the notebook file as \"dlnd_tv_script_generation.ipynb\" and save it as a HTML file under \"File\" -> \"Download as\". Include the \"helper.py\" and \"problem_unittests.py\" files in your submission."
   ]
  }
 ],
 "metadata": {
  "kernelspec": {
   "display_name": "Python 3",
   "language": "python",
   "name": "python3"
  },
  "language_info": {
   "codemirror_mode": {
    "name": "ipython",
    "version": 3
   },
   "file_extension": ".py",
   "mimetype": "text/x-python",
   "name": "python",
   "nbconvert_exporter": "python",
   "pygments_lexer": "ipython3",
   "version": "3.6.5"
  },
  "widgets": {
   "state": {},
   "version": "1.1.2"
  }
 },
 "nbformat": 4,
 "nbformat_minor": 1
}
